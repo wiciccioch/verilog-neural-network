{
 "cells": [
  {
   "cell_type": "code",
   "execution_count": 33,
   "id": "118a305b",
   "metadata": {},
   "outputs": [],
   "source": [
    "import cv2\n",
    "import numpy as np"
   ]
  },
  {
   "cell_type": "code",
   "execution_count": 34,
   "id": "1073088b",
   "metadata": {},
   "outputs": [],
   "source": [
    "img = cv2.imread('D:\UNSAAC\Cursos 2024-I\Lab. Digi II\Experiencia I\4_marko.png',0)"
   ]
  },
  {
   "cell_type": "code",
   "execution_count": 35,
   "id": "0a56e39e",
   "metadata": {},
   "outputs": [],
   "source": [
    "img = img.flatten();"
   ]
  },
  {
   "cell_type": "code",
   "execution_count": 36,
   "id": "47734217",
   "metadata": {},
   "outputs": [],
   "source": [
    "p = img.shape"
   ]
  },
  {
   "cell_type": "code",
   "execution_count": 37,
   "id": "58c8f876",
   "metadata": {},
   "outputs": [
    {
     "name": "stdout",
     "output_type": "stream",
     "text": [
      "(784,)\n"
     ]
    }
   ],
   "source": [
    "print(p)"
   ]
  },
  {
   "cell_type": "code",
   "execution_count": 38,
   "id": "79813dd3",
   "metadata": {},
   "outputs": [],
   "source": [
    "np.savetxt(\"D:\UNSAAC\Cursos 2024-I\Lab. Digi II\Experiencia I\4_prenormalized.csv\", img, delimiter=\",\", fmt=\"%s\")"
   ]
  },
  {
   "cell_type": "code",
   "execution_count": null,
   "id": "9787b9a4",
   "metadata": {},
   "outputs": [],
   "source": []
  }
 ],
 "metadata": {
  "kernelspec": {
   "display_name": "Python 3 (ipykernel)",
   "language": "python",
   "name": "python3"
  },
  "language_info": {
   "codemirror_mode": {
    "name": "ipython",
    "version": 3
   },
   "file_extension": ".py",
   "mimetype": "text/x-python",
   "name": "python",
   "nbconvert_exporter": "python",
   "pygments_lexer": "ipython3",
   "version": "3.11.2"
  }
 },
 "nbformat": 4,
 "nbformat_minor": 5
}
